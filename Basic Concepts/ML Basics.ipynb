{
 "cells": [
  {
   "cell_type": "markdown",
   "id": "8ab4670b-efd6-458a-bf6e-12a4bb8ff034",
   "metadata": {},
   "source": [
    "AI vs ML vs DL vs DS                    \n",
    "Artificial Intelligence vs Machine Learning vs Deep Learning vs Data Science"
   ]
  },
  {
   "cell_type": "raw",
   "id": "ae34799a-a6a3-4f75-8a94-1faf47440af1",
   "metadata": {},
   "source": [
    "Data Science - the field of study of science associated with data\n",
    "\n",
    "Artifical intelligence is basically the smart applications that can perform on its own without any human intervention. ex: robots, self driving cars,virtual assistants like siri and alexa etc\n",
    "\n",
    "Machine learning is a subset of AI. This is basically a way to make the machine learn on its own without much of human intervention.This basically happens in a way where the machine was fed with data and it analyzes the data to discover hidden patterns and make the decisions on its own. ex:Time series,recommendation systems etc\n",
    "\n",
    "Deep learning is a subset of machine learning. It basically focuses to mimic the human brain.It works with multi layered neural networks. ex:chatgpt, chatbot etc"
   ]
  },
  {
   "cell_type": "markdown",
   "id": "6940a008-2bad-4e5d-875f-3546a57f118e",
   "metadata": {},
   "source": [
    "Machine Learning"
   ]
  },
  {
   "cell_type": "raw",
   "id": "6f397a6f-666a-4bdf-8cbe-783779a5a2f3",
   "metadata": {},
   "source": [
    "There are 4 types of ML:\n",
    "Supervised\n",
    "Unsupervised\n",
    "Semi Supervised\n",
    "Reinforcement learning\n",
    "\n",
    "1) Supervised ML is where the model is trainined with input-ouput pairs as input dataset.It not only works with labelled dataset but also with observational data.With ML we solve 2 types of problem statement: classification and regression. \n",
    "\n",
    "Classification: The output can be distingushed into categories.If the output has 2 categories its called binary classification and more than that its called multi class classification.\n",
    "eg:positive and negative reviews for a movie,segemtation of students results as pass or fail .,etc\n",
    "\n",
    "Regression: In regression the output is a continous feature\n",
    "eg:house price prediction,time series .,etc\n",
    "\n",
    "2) Unsupervised ML is where there is no training stage. We give the model only input data without any corresponding otput data to find the hidden patterns and make clusters or groups of similar groups.\n",
    "eg:customer segmentaion,audience segmenation .,etc\n",
    "\n",
    "3) Semi Supervised ML is combination of both supervised and unsupervised ML\n",
    "eg:netflix audience segmentation based on their watch history and purchase history and then apply supervised ML algorithm on a specific group of audience to make more recommendations.\n",
    "\n",
    "4) Reinforcement learning (RL) is a machine learning (ML) technique that trains software to make decisions to achieve the most optimal results. It mimics the trial-and-error learning process that humans use to achieve their goals.\n",
    "eg:chatbots\n"
   ]
  }
 ],
 "metadata": {
  "kernelspec": {
   "display_name": "Python 3 (ipykernel)",
   "language": "python",
   "name": "python3"
  },
  "language_info": {
   "codemirror_mode": {
    "name": "ipython",
    "version": 3
   },
   "file_extension": ".py",
   "mimetype": "text/x-python",
   "name": "python",
   "nbconvert_exporter": "python",
   "pygments_lexer": "ipython3",
   "version": "3.10.8"
  }
 },
 "nbformat": 4,
 "nbformat_minor": 5
}
